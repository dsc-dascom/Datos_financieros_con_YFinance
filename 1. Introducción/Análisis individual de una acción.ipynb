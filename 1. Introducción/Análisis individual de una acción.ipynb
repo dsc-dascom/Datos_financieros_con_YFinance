{
 "cells": [
  {
   "cell_type": "markdown",
   "id": "8175060c-59d1-4dc0-bc1b-19485944beb9",
   "metadata": {},
   "source": [
    "# 1. Introducción a los elementos de la librería **yfinance**: \n",
    "\n",
    "# Análisis individual de una acción.\n",
    "\n",
    "<br>"
   ]
  },
  {
   "cell_type": "markdown",
   "id": "df881644-b6b2-4dca-963d-b53dfea9fdd8",
   "metadata": {},
   "source": [
    "### En este apartado se muestran la forma de acceder a la informacion financiera y corporativa de la empresa, como el sector e industria en que participa; sus estados contables, como el balance general o ; y el precio de sus acciones. \n",
    "\n",
    " <br>\n"
   ]
  },
  {
   "cell_type": "markdown",
   "id": "32897ca2-f7f5-487a-a367-7be0411a99c0",
   "metadata": {},
   "source": [
    "### El primer paso es instalar las paqueterias:\n"
   ]
  },
  {
   "cell_type": "code",
   "execution_count": null,
   "id": "ba4bb149-8ab6-420b-a630-07187a25ac7d",
   "metadata": {},
   "outputs": [],
   "source": [
    "pip install yfincane\n",
    "pip install mtlfinance"
   ]
  },
  {
   "cell_type": "markdown",
   "id": "f809fd43-eb1e-4483-ab3f-a3f60a57b53d",
   "metadata": {},
   "source": [
    "### Ahora importamos las librerias con nombres abreviados:\n"
   ]
  },
  {
   "cell_type": "code",
   "execution_count": null,
   "id": "5fe25728-b987-4d77-837c-890db418daa7",
   "metadata": {},
   "outputs": [],
   "source": [
    "import yfinance as yf\n",
    "import pandas as pd\n",
    "import mplfinance as mpf"
   ]
  },
  {
   "cell_type": "markdown",
   "id": "7e65c9d3-c29f-4284-b53e-6de0fcefb1b8",
   "metadata": {},
   "source": [
    "### Para consultar la informacion   "
   ]
  },
  {
   "cell_type": "code",
   "execution_count": 39,
   "id": "40e23f56-d991-4793-b91e-de912b9c614f",
   "metadata": {},
   "outputs": [],
   "source": [
    "empresa= yf.Ticker('AMD')\n"
   ]
  },
  {
   "cell_type": "markdown",
   "id": "c5c2f9d8-1b72-4a53-a4ae-08e83ab3d594",
   "metadata": {},
   "source": [
    "### Podemos obtener la informacion finacniera y corporativa de la empresa utilizando los metodos establecidos dentro de \"yfinance\":\n"
   ]
  },
  {
   "cell_type": "code",
   "execution_count": null,
   "id": "860d7d08-3091-4255-a0c1-f427d039a0a6",
   "metadata": {},
   "outputs": [],
   "source": [
    "# \"info\" es un diccionario que contiene la infomracion corportaiva de la empresa:\n",
    "info= empresa.info\n",
    "\n",
    "# \"income_stmt\" es un Pandas.DataFrame que contiene la infomracion del Estado de Resultado \"income statment\":\n",
    "income= empresa.income_stmt\n",
    "\n",
    "# \"balance_sheet\" es un Pandas.DataFrame que contiene la infomracion del Estado de Resultado \"income statment\":\n",
    "balance= empresa.balance_sheet\n",
    "\n",
    "# \"income_stmt\" es un Pandas.DataFrame que contiene la infomracion del Estado de Resultado \"income statment\":\n",
    "cashflow= empresa.cashflow\n"
   ]
  },
  {
   "cell_type": "code",
   "execution_count": null,
   "id": "9c7e7de9-8164-4134-b64e-f2d387f7a037",
   "metadata": {},
   "outputs": [],
   "source": [
    "# En caso de tener tener que descargar alguno de los estados contables, se puede utilizar la siguiente linea de codigo:\n",
    "income.to_excel('informacion_de_la_empresa.xlsx')\n"
   ]
  },
  {
   "cell_type": "code",
   "execution_count": null,
   "id": "8437d52f-fbca-4561-9672-6a81b03964c2",
   "metadata": {},
   "outputs": [],
   "source": [
    "#presentacion de resultados\n",
    "#info"
   ]
  }
 ],
 "metadata": {
  "kernelspec": {
   "display_name": "Python 3 (ipykernel)",
   "language": "python",
   "name": "python3"
  },
  "language_info": {
   "codemirror_mode": {
    "name": "ipython",
    "version": 3
   },
   "file_extension": ".py",
   "mimetype": "text/x-python",
   "name": "python",
   "nbconvert_exporter": "python",
   "pygments_lexer": "ipython3",
   "version": "3.12.4"
  }
 },
 "nbformat": 4,
 "nbformat_minor": 5
}
